{
 "cells": [
  {
   "cell_type": "code",
   "execution_count": 4,
   "metadata": {},
   "outputs": [
    {
     "name": "stdout",
     "output_type": "stream",
     "text": [
      "Muhammad\n",
      "Usman\n",
      "34\n",
      "Karachi\n",
      "Intermidiate \n",
      "Qualification update  MBA\n",
      "{'first_name': 'Muhammad', 'last_name,': 'Usman', 'age': '34', 'city': 'Karachi'}\n"
     ]
    }
   ],
   "source": [
    "obj = {\n",
    "    \"first_name\" : \"Muhammad\",\n",
    "    \"last_name,\" : \"Usman\",\n",
    "    \"age\":\"34\",\n",
    "    \"city\" : \"Karachi\"\n",
    "}\n",
    "\n",
    "for i in obj.values():\n",
    "    print(i)\n",
    "\n",
    "obj.update({\"qualification\":\"Intermidiate \"})\n",
    "\n",
    "print(obj[\"qualification\"])\n",
    "\n",
    "obj[\"qualification\"] = \"MBA\"\n",
    "print(\"Qualification update \",obj[\"qualification\"])\n",
    "\n",
    "del obj[\"qualification\"]\n",
    "\n",
    "print(obj)\n",
    "\n"
   ]
  },
  {
   "cell_type": "code",
   "execution_count": 12,
   "metadata": {},
   "outputs": [
    {
     "name": "stdout",
     "output_type": "stream",
     "text": [
      "Name of city   Islamabad\n",
      "Country Name  :  Pakistan\n",
      "Approximate population  :  1.05 million\n",
      "Fact of the city  :  Islamabad is the Capital of the Pakistani. it is a beautiful city of Paksiatn\n",
      "===================================================================================================================\n",
      "Name of city   Tehran\n",
      "Country Name  :  Iran\n",
      "Approximate population  :  8.6 million\n",
      "Fact of the city  :  TEhran is the capital of Iran, Tehran has many famous masjid\n",
      "===================================================================================================================\n",
      "Name of city   Riyadh\n",
      "Country Name  :  Saudia Arabia\n",
      "Approximate population  :  5.18 million\n",
      "Fact of the city  :  Riyadh is the capital of kingdom of saudia Arabia.\n",
      "===================================================================================================================\n"
     ]
    }
   ],
   "source": [
    "city ={\n",
    "    \"Islamabad\" : {\n",
    "        \"country\": \"Pakistan\",\n",
    "        \"approximate_population\":\"1.05 million\",\n",
    "        \"fact\":\"Islamabad is the Capital of the Pakistani. it is a beautiful city of Paksiatn\"\n",
    "    },\n",
    "    \"Tehran\" : {\n",
    "        \"country\": \"Iran\",\n",
    "        \"approximate_population\":\"8.6 million\",\n",
    "        \"fact\":\"TEhran is the capital of Iran, Tehran has many famous masjid\"\n",
    "    },\n",
    "    \"Riyadh\" : {\n",
    "        \"country\": \"Saudia Arabia\",\n",
    "        \"approximate_population\":\"5.18 million\",\n",
    "        \"fact\":\"Riyadh is the capital of kingdom of saudia Arabia.\"\n",
    "    }\n",
    "}\n",
    "    \n",
    "for i in city.keys():\n",
    "    print(\"Name of city  \", i)\n",
    "    print(\"Country Name  : \" , city[i][\"country\"])\n",
    "    print(\"Approximate population  : \" , city[i][\"approximate_population\"])\n",
    "    print(\"Fact of the city  : \" , city[i][\"fact\"])\n",
    "    print(\"===================================================================================================================\")\n"
   ]
  },
  {
   "cell_type": "code",
   "execution_count": null,
   "metadata": {},
   "outputs": [],
   "source": [
    "persons = int(input(\"Enter the no. of Person : \"))\n",
    "\n",
    "total_price = 0\n",
    "\n",
    "for i in range(1,persons+1):\n",
    "    age = int(input(\"Enter The Age Of Person: \"))\n",
    "    if age <= 3:\n",
    "        print(\"Your Ticket is Free! Enjoy Your Movie\")\n",
    "    elif age <= 12:\n",
    "        print(\"Your Ticket price will be 10$\")\n",
    "        total_price +=10\n",
    "    else:\n",
    "        print(\"Your Ticket price will be 15$\")\n",
    "        total_price +=15\n",
    "\n",
    "print(\"Total Amount = \",total_price,\" $ Enjoy Your Movie\")"
   ]
  },
  {
   "cell_type": "code",
   "execution_count": null,
   "metadata": {},
   "outputs": [],
   "source": [
    "def favorite_book(book_name):\n",
    "    print(\"One of my favorite books is \",book_name)\n",
    "    \n",
    "title=input(\"Enter The Bookk Title: \")\n",
    "\n",
    "favorite_book(title)\n",
    "\n"
   ]
  },
  {
   "cell_type": "code",
   "execution_count": null,
   "metadata": {},
   "outputs": [],
   "source": [
    "import random\n",
    "\n",
    "random_number = random.randrange(1,30)\n",
    "\n",
    "flag = False\n",
    "\n",
    "for i in range(1,4):\n",
    "    guess = int(input(\"Guess the number between 1 to 30 : \"))\n",
    "    if guess == random_number:\n",
    "        flag = True \n",
    "        break\n",
    "    elif guess < random_number:\n",
    "        print(\"Your guess is too low\")\n",
    "    else:\n",
    "        print(\"Your guess is too high\")\n",
    "        \n",
    "if flag:\n",
    "    print(\"Congratulation you Win!!\")\n",
    "else:\n",
    "    print(\"You Loose\")\n",
    "    print(\"Correct Number is \", random_number)"
   ]
  },
  {
   "cell_type": "code",
   "execution_count": null,
   "metadata": {},
   "outputs": [],
   "source": []
  }
 ],
 "metadata": {
  "kernelspec": {
   "display_name": "Python 3",
   "language": "python",
   "name": "python3"
  },
  "language_info": {
   "codemirror_mode": {
    "name": "ipython",
    "version": 3
   },
   "file_extension": ".py",
   "mimetype": "text/x-python",
   "name": "python",
   "nbconvert_exporter": "python",
   "pygments_lexer": "ipython3",
   "version": "3.7.4"
  }
 },
 "nbformat": 4,
 "nbformat_minor": 2
}
