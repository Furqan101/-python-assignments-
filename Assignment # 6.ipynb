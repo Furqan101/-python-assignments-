{
 "cells": [
  {
   "cell_type": "code",
   "execution_count": 1,
   "metadata": {},
   "outputs": [
    {
     "name": "stdout",
     "output_type": "stream",
     "text": [
      " ANSWER 1: \n",
      "Object-oriented programming language (known as OOP) is a language in which the objects created provide limited or no access to other functions or methods within the program. \n",
      "This enables only authorized or inherited methods/functions to access a particular object.\n"
     ]
    }
   ],
   "source": [
    "print(''' ANSWER 1: \n",
    "Object-oriented programming language (known as OOP) is a language in which the objects created provide limited or no access to other functions or methods within the program. \n",
    "This enables only authorized or inherited methods/functions to access a particular object.''')"
   ]
  },
  {
   "cell_type": "code",
   "execution_count": 2,
   "metadata": {},
   "outputs": [
    {
     "name": "stdout",
     "output_type": "stream",
     "text": [
      " ANSWER 2: \n",
      "Following are some benefits of Object-oriented programing language \n",
      "•\tModularity for easier troubleshooting\n",
      "•\tReuse of code through inheritance\n",
      "•\tFlexibility through polymorphism\n",
      "•\tEffective problem solving  \n",
      "•\teasily adapted and modified by the programmer.\n",
      "•\tfaster development.\n",
      "\n",
      "    \n"
     ]
    }
   ],
   "source": [
    "print(''' ANSWER 2: \n",
    "Following are some benefits of Object-oriented programing language \n",
    "•\tModularity for easier troubleshooting\n",
    "•\tReuse of code through inheritance\n",
    "•\tFlexibility through polymorphism\n",
    "•\tEffective problem solving  \n",
    "•\teasily adapted and modified by the programmer.\n",
    "•\tfaster development.\n",
    "\n",
    "    ''')"
   ]
  },
  {
   "cell_type": "code",
   "execution_count": 3,
   "metadata": {},
   "outputs": [
    {
     "name": "stdout",
     "output_type": "stream",
     "text": [
      "Funtion\n",
      "\n",
      "1.\tFunction is block of code that is also called by its name. (independent) \n",
      "2.\tThe function can have different parameters or may not have any at all. If any data (parameters) are passed, they are passed explicitly. \n",
      "3.\tIt may or may not return any data. \n",
      "4.\tFunction does not deal with Class and its instance concept.\n",
      " \n",
      "Method\n",
      "\n",
      "1.\tMethod is called by its name, but it is associated to an object (dependent). \n",
      "2.\tA method is implicitly passed the object on which it is invoked. \n",
      "3.\tIt may or may not return any data. \n",
      "4.\tA method can operate on the data (instance variables) that is contained by the corresponding class .\n",
      "    \n"
     ]
    }
   ],
   "source": [
    "print('Funtion')\n",
    "print('''\n",
    "1.\tFunction is block of code that is also called by its name. (independent) \n",
    "2.\tThe function can have different parameters or may not have any at all. If any data (parameters) are passed, they are passed explicitly. \n",
    "3.\tIt may or may not return any data. \n",
    "4.\tFunction does not deal with Class and its instance concept.\n",
    " ''')\n",
    "print('Method')\n",
    "print('''\n",
    "1.\tMethod is called by its name, but it is associated to an object (dependent). \n",
    "2.\tA method is implicitly passed the object on which it is invoked. \n",
    "3.\tIt may or may not return any data. \n",
    "4.\tA method can operate on the data (instance variables) that is contained by the corresponding class .\n",
    "    ''')"
   ]
  },
  {
   "cell_type": "code",
   "execution_count": 4,
   "metadata": {},
   "outputs": [
    {
     "name": "stdout",
     "output_type": "stream",
     "text": [
      "\n",
      "Answer 4: \n",
      "Class: A class is a user defined blueprint or prototype from which objects are created. \n",
      "It represents the set of properties or methods that are common to all objects of one type.  OR\n",
      "A class is a code template for creating objects.\n",
      "\n",
      "\n",
      "Object: It is a basic unit of Object Oriented Programming and represents the real life entities. \n",
      "Objects are an encapsulation of variables and functions into a single entity. \n",
      "Objects get their variables and functions from classes. OR\n",
      "Object is simply a collection of data (variables) and methods (functions) that act on those data.\n",
      "\n",
      "Attribute: Everything in Python is an object, and almost everything has attributes and methods. In python, functions too are objects. So they have attributes like other objects. All functions have a built-in attribute __doc__, which returns the doc string defined in the function source code. We can also assign new attributes to them, as well as retrieve the values of those attributes.\n",
      "\n",
      "Behavior: Behavior provides a language suitable for Behavior Driven Development (BDD), as opposed to post-coding unit testing. It operates as a facade over Python’s unit testing framework.\n",
      "                        \n",
      "    \n"
     ]
    }
   ],
   "source": [
    "print('''\n",
    "Answer 4: \n",
    "Class: A class is a user defined blueprint or prototype from which objects are created. \n",
    "It represents the set of properties or methods that are common to all objects of one type.  OR\n",
    "A class is a code template for creating objects.\n",
    "\n",
    "\n",
    "Object: It is a basic unit of Object Oriented Programming and represents the real life entities. \n",
    "Objects are an encapsulation of variables and functions into a single entity. \n",
    "Objects get their variables and functions from classes. OR\n",
    "Object is simply a collection of data (variables) and methods (functions) that act on those data.\n",
    "\n",
    "Attribute: Everything in Python is an object, and almost everything has attributes and methods. In python, functions too are objects. So they have attributes like other objects. All functions have a built-in attribute __doc__, which returns the doc string defined in the function source code. We can also assign new attributes to them, as well as retrieve the values of those attributes.\n",
    "\n",
    "Behavior: Behavior provides a language suitable for Behavior Driven Development (BDD), as opposed to post-coding unit testing. It operates as a facade over Python’s unit testing framework.\n",
    "                        \n",
    "    ''')"
   ]
  },
  {
   "cell_type": "code",
   "execution_count": 5,
   "metadata": {},
   "outputs": [
    {
     "name": "stdout",
     "output_type": "stream",
     "text": [
      "this car name is :  Corolla\n",
      "Suzuki\n",
      "Xayz-212\n"
     ]
    }
   ],
   "source": [
    "class Car:\n",
    "    def __init__(self,model,color,name,company,number):\n",
    "        self.model=model\n",
    "        self.color=color\n",
    "        self.name=name\n",
    "        self.company=company\n",
    "        self.number=number\n",
    "        \n",
    "    def print_name(self):\n",
    "        print(\"this car name is : \",self.name)\n",
    "            \n",
    "    def print_UPdatecompany(self):\n",
    "        self.company=\"Suzuki\"\n",
    "        print(self.company)\n",
    "            \n",
    "    def print_number(self):\n",
    "        print(self.number)\n",
    "            \n",
    "car1=Car('2019','Black','Corolla','Toyota','Abx-2132')\n",
    "car2=Car('2018','white','VIGO','Toyota','Xayz-212')\n",
    "car3=Car('2017','Red','land Cruiser','Toyota','cda-132')\n",
    "car4=Car('2016','Blue','Civic','Honda','zzw-32')\n",
    "car5=Car('2015','mate Black','City','Honda','Ax-22')\n",
    "\n",
    "\n",
    "\n",
    "car1.print_name()\n",
    "car2.print_UPdatecompany()\n",
    "car2.print_number()"
   ]
  },
  {
   "cell_type": "code",
   "execution_count": null,
   "metadata": {},
   "outputs": [],
   "source": []
  }
 ],
 "metadata": {
  "kernelspec": {
   "display_name": "Python 3",
   "language": "python",
   "name": "python3"
  },
  "language_info": {
   "codemirror_mode": {
    "name": "ipython",
    "version": 3
   },
   "file_extension": ".py",
   "mimetype": "text/x-python",
   "name": "python",
   "nbconvert_exporter": "python",
   "pygments_lexer": "ipython3",
   "version": "3.7.4"
  }
 },
 "nbformat": 4,
 "nbformat_minor": 2
}
