{
 "cells": [
  {
   "cell_type": "code",
   "execution_count": 1,
   "metadata": {},
   "outputs": [
    {
     "name": "stdout",
     "output_type": "stream",
     "text": [
      "\"Twinkle, Twinkle, Little star\n",
      "         How are Wonder what you are!\n",
      "         Up above the world so high \n",
      "         Like the diamond in the sky\n",
      "            Twinkle , Twinkle, little star\n",
      "            How are wonder what you are!\n"
     ]
    }
   ],
   "source": [
    "poem = \"\"\"\"Twinkle, Twinkle, Little star\n",
    "         How are Wonder what you are!\n",
    "         Up above the world so high \n",
    "         Like the diamond in the sky\n",
    "            Twinkle , Twinkle, little star\n",
    "            How are wonder what you are!\"\"\"\"\"\n",
    "    \n",
    "        \n",
    "        \n",
    "print(poem)"
   ]
  },
  {
   "cell_type": "code",
   "execution_count": 2,
   "metadata": {},
   "outputs": [
    {
     "name": "stdout",
     "output_type": "stream",
     "text": [
      "pthon version is:3.7.4 (default, Aug  9 2019, 18:34:13) [MSC v.1915 64 bit (AMD64)]\n"
     ]
    }
   ],
   "source": [
    "import sys \n",
    "version = sys. version\n",
    "print ('pthon version is:' + version)\n"
   ]
  },
  {
   "cell_type": "code",
   "execution_count": 3,
   "metadata": {},
   "outputs": [
    {
     "name": "stdout",
     "output_type": "stream",
     "text": [
      "2019-11-21 23:29:34.386814\n"
     ]
    }
   ],
   "source": [
    "import datetime\n",
    "\n",
    "date = datetime.datetime.now()\n",
    "\n",
    "print(date)"
   ]
  },
  {
   "cell_type": "code",
   "execution_count": 41,
   "metadata": {},
   "outputs": [
    {
     "name": "stdout",
     "output_type": "stream",
     "text": [
      "Enter radius:12\n",
      "area of 12.0 is 452.38896\n"
     ]
    }
   ],
   "source": [
    "radius = float(input('Enter radius:'))\n",
    "area = 3.14159 * ( radius **2)\n",
    "print('area of ' + str(radius)+' is ' +str(area))"
   ]
  },
  {
   "cell_type": "code",
   "execution_count": 4,
   "metadata": {},
   "outputs": [
    {
     "name": "stdout",
     "output_type": "stream",
     "text": [
      "Furqan Muhammad\n"
     ]
    }
   ],
   "source": [
    "First_name = \"Muhammad\"\n",
    "Last_name = \"Furqan\"\n",
    "print(Last_name + \" \" + First_name)\n"
   ]
  },
  {
   "cell_type": "code",
   "execution_count": 6,
   "metadata": {},
   "outputs": [
    {
     "name": "stdout",
     "output_type": "stream",
     "text": [
      "enter number12.5\n",
      "enter number12.5\n",
      "addition is 25.0\n"
     ]
    }
   ],
   "source": [
    "first_number = float(input ('enter number'))\n",
    "second_number = float (input('enter number'))\n",
    "print('addition is',first_number + second_number)"
   ]
  },
  {
   "cell_type": "code",
   "execution_count": null,
   "metadata": {},
   "outputs": [],
   "source": []
  }
 ],
 "metadata": {
  "kernelspec": {
   "display_name": "Python 3",
   "language": "python",
   "name": "python3"
  },
  "language_info": {
   "codemirror_mode": {
    "name": "ipython",
    "version": 3
   },
   "file_extension": ".py",
   "mimetype": "text/x-python",
   "name": "python",
   "nbconvert_exporter": "python",
   "pygments_lexer": "ipython3",
   "version": "3.7.4"
  }
 },
 "nbformat": 4,
 "nbformat_minor": 2
}
