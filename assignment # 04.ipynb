{
 "cells": [
  {
   "cell_type": "code",
   "execution_count": 35,
   "metadata": {},
   "outputs": [
    {
     "ename": "IndentationError",
     "evalue": "unindent does not match any outer indentation level (<tokenize>, line 37)",
     "output_type": "error",
     "traceback": [
      "\u001b[1;36m  File \u001b[1;32m\"<tokenize>\"\u001b[1;36m, line \u001b[1;32m37\u001b[0m\n\u001b[1;33m    Contat_info.append(new_contacts)\u001b[0m\n\u001b[1;37m    ^\u001b[0m\n\u001b[1;31mIndentationError\u001b[0m\u001b[1;31m:\u001b[0m unindent does not match any outer indentation level\n"
     ]
    }
   ],
   "source": [
    "Contact_info = [\n",
    "    {\n",
    "    \"contact_id\"  : 1,\n",
    "    \"First_name\" : \"Muhammad\" ,\n",
    "    \"last_name\"  : \"Amjad\",\n",
    "    \"age\"        : 18,\n",
    "    \"city\"       : \"karachi\"\n",
    "    },\n",
    "    \n",
    "    {\n",
    "    \n",
    "    \"contact_id\"  : 2, \n",
    "    \"First_name\" : \"Rizwan\" ,\n",
    "    \"last_name\"  : \"Ahmed\",\n",
    "    \"age\"        : 19,\n",
    "    \"city\"       : \"lahore\"\n",
    "    },\n",
    "   \n",
    "    {\n",
    "    \"contact_id\"  : 3, \n",
    "    \"First_name\" : \"Atif\" ,\n",
    "    \"last_name\"  : \"Ahed\",\n",
    "    \"age\"        : 20,\n",
    "    \"city\"       : \"Islamabad\"\n",
    "    },\n",
    "]\n",
    "\n",
    "new_contacts =    \n",
    "    {\n",
    "     \"contact_id\"  : 4, \n",
    "    \"First_name\" : \"Arif\" ,\n",
    "    \"last_name\"  : \"Ahmed\",\n",
    "    \"age\"        : 21,\n",
    "    \"city\"       : \"gilgit\",\n",
    "    }\n",
    "\n",
    " Contat_info.append(new_contacts)\n",
    "\n",
    "print(Contact_info[1])"
   ]
  },
  {
   "cell_type": "code",
   "execution_count": null,
   "metadata": {},
   "outputs": [],
   "source": []
  },
  {
   "cell_type": "code",
   "execution_count": null,
   "metadata": {},
   "outputs": [],
   "source": []
  },
  {
   "cell_type": "code",
   "execution_count": null,
   "metadata": {},
   "outputs": [],
   "source": []
  }
 ],
 "metadata": {
  "kernelspec": {
   "display_name": "Python 3",
   "language": "python",
   "name": "python3"
  },
  "language_info": {
   "codemirror_mode": {
    "name": "ipython",
    "version": 3
   },
   "file_extension": ".py",
   "mimetype": "text/x-python",
   "name": "python",
   "nbconvert_exporter": "python",
   "pygments_lexer": "ipython3",
   "version": "3.7.4"
  }
 },
 "nbformat": 4,
 "nbformat_minor": 2
}
