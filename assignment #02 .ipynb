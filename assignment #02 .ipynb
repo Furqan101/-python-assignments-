{
 "cells": [
  {
   "cell_type": "code",
   "execution_count": 25,
   "metadata": {},
   "outputs": [
    {
     "name": "stdout",
     "output_type": "stream",
     "text": [
      "English marks 100\n",
      "Maths marks100\n",
      "Science marks100\n",
      "Urdu marks100\n",
      "ICT marks100\n",
      "percentageis 100\n",
      "Grade is A+\n"
     ]
    }
   ],
   "source": [
    "subject_1 = int(input( 'English marks '))\n",
    "subject_2 = int(input('Maths marks'))\n",
    "subject_3 = int(input('Science marks'))\n",
    "subject_4 = int(input('Urdu marks'))\n",
    "subject_5 = int(input('ICT marks'))\n",
    "marks_obtained= subject_1 + subject_2 + subject_3 + subject_4 + subject_5\n",
    "Total_marks = 500 \n",
    "percentage = int(marks_obtained / Total_marks * 100) \n",
    "\n",
    "print(\"percentageis\" , percentage)\n",
    "\n",
    "if percentage  >= 90 and percentage <=100:\n",
    "    print(\"Grade is A+\")\n",
    "elif percentage >=80 and precentage <=90:\n",
    "    print(\"Grade is A\")\n",
    "elif percentage >=70 and precentage <=80:\n",
    "    print(\"Grade is A\")\n",
    "elif percentage >=60 and precentage <=70:\n",
    "    print(\"Grade is A\")\n",
    "elif percentage >=50 and precentage <=60:\n",
    "    print(\"Grade is A\")\n",
    "elif percentage >=40 and precentage <=50:\n",
    "    print(\"Grade is A\")\n",
    "elif percentage >=0 and precentage <=40:\n",
    "    print(\"Grade is A\")\n",
    "else :\n",
    "    print(\"invalid percentage\")"
   ]
  },
  {
   "cell_type": "code",
   "execution_count": 26,
   "metadata": {},
   "outputs": [
    {
     "name": "stdout",
     "output_type": "stream",
     "text": [
      "Enter A Number24\n",
      "You Enter an Even Number\n"
     ]
    }
   ],
   "source": [
    "number= int(input(\"Enter A Number\"))\n",
    "if number%2 == 0:\n",
    "    print(\"You Enter an Even Number\")\n",
    "else:\n",
    "    print(\"You Enter an Odd Number\")\n"
   ]
  },
  {
   "cell_type": "code",
   "execution_count": 10,
   "metadata": {},
   "outputs": [
    {
     "name": "stdout",
     "output_type": "stream",
     "text": [
      "the length of the list is 8\n"
     ]
    }
   ],
   "source": [
    "lst=[0,1,2,3,4,5,6,7]\n",
    "print(\"the length of the list is \"+str(len(lst)))"
   ]
  },
  {
   "cell_type": "code",
   "execution_count": 11,
   "metadata": {},
   "outputs": [
    {
     "name": "stdout",
     "output_type": "stream",
     "text": [
      "the sum of list is 1200\n"
     ]
    }
   ],
   "source": [
    "lst = [50,100,150,300,600,]\n",
    "sum = 0\n",
    "for i in lst:\n",
    "    sum +=i\n",
    "    \n",
    "print(\"the sum of list is \"+str(sum))\n"
   ]
  },
  {
   "cell_type": "code",
   "execution_count": 5,
   "metadata": {},
   "outputs": [
    {
     "name": "stdout",
     "output_type": "stream",
     "text": [
      "the largest number from the list is 48\n"
     ]
    }
   ],
   "source": [
    "lst = [12, 24, 36, 48, 10]\n",
    "print(\"the largest number from the list is \" + str(max(lst)))"
   ]
  },
  {
   "cell_type": "code",
   "execution_count": 6,
   "metadata": {},
   "outputs": [
    {
     "name": "stdout",
     "output_type": "stream",
     "text": [
      "1\n",
      "2\n",
      "3\n",
      "4\n"
     ]
    }
   ],
   "source": [
    "lst = [10, 1, 25, 2, 30, 3, 40, 4, 50, 5]\n",
    "for i in lst:\n",
    "    if i < 5:\n",
    "        print(i)"
   ]
  },
  {
   "cell_type": "code",
   "execution_count": null,
   "metadata": {},
   "outputs": [],
   "source": []
  }
 ],
 "metadata": {
  "kernelspec": {
   "display_name": "Python 3",
   "language": "python",
   "name": "python3"
  },
  "language_info": {
   "codemirror_mode": {
    "name": "ipython",
    "version": 3
   },
   "file_extension": ".py",
   "mimetype": "text/x-python",
   "name": "python",
   "nbconvert_exporter": "python",
   "pygments_lexer": "ipython3",
   "version": "3.7.4"
  }
 },
 "nbformat": 4,
 "nbformat_minor": 2
}
