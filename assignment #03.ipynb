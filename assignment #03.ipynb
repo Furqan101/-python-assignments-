{
 "cells": [
  {
   "cell_type": "code",
   "execution_count": 74,
   "metadata": {},
   "outputs": [
    {
     "name": "stdout",
     "output_type": "stream",
     "text": [
      "enter the number10\n",
      "enter the operator+\n",
      "enter the numer20\n",
      "the addition of 10 & 20 is 30\n"
     ]
    }
   ],
   "source": [
    "\n",
    "number_1 = int(input('enter the number'))\n",
    "operator = input(\"enter the operator\")\n",
    "number_2 = int(input(\"enter the numer\"))\n",
    "\n",
    "if operator == '+':\n",
    "    result = number_1 + number_2 \n",
    "    print('the addition of', number_1,'&',number_2,'is', result)\n",
    "elif operator  == '-' :\n",
    "    result = number_1 - number_2 \n",
    "    print('the subraction of', number_1,'&',number_2,'is', result)\n",
    "elif operator  == '*' :\n",
    "    result = number_1 * number_2 \n",
    "    print('the multiplication of', number_1,'&',number_2,'is', result)\n",
    "elif operator  == '/' :\n",
    "    result = number_1 / number_2 \n",
    "    print('the division of', number_1,'&',number_2,'is', result)\n",
    "elif operator  == '**' :\n",
    "    result = number_1 ** number_2 \n",
    "    print('the power of', number_1,'&',number_2,'is', result)\n",
    "\n",
    "\n",
    "\n",
    "    "
   ]
  },
  {
   "cell_type": "code",
   "execution_count": 75,
   "metadata": {},
   "outputs": [
    {
     "name": "stdout",
     "output_type": "stream",
     "text": [
      "a is string\n",
      "b is string\n",
      "10 is the numeric value\n",
      "c is string\n",
      "20 is the numeric value\n",
      "d is string\n",
      "30 is the numeric value\n",
      "40.5 is the float value\n"
     ]
    }
   ],
   "source": [
    "lst = [\"a\", \"b\", 10, \"c\", 20, \"d\", 30, 40.5]\n",
    "for i in lst:\n",
    "    if type (i)== int:\n",
    "        print(i, \"is the numeric value\")\n",
    "        \n",
    "    elif type (i)== float:\n",
    "        print(i, \"is the float value\")\n",
    "        \n",
    "    elif type (i)== str:\n",
    "        print(i, \"is string\")\n",
    "    \n"
   ]
  },
  {
   "cell_type": "code",
   "execution_count": 76,
   "metadata": {},
   "outputs": [
    {
     "name": "stdout",
     "output_type": "stream",
     "text": [
      " lion\n",
      " mango\n",
      "{'lion': 'mango'}\n"
     ]
    }
   ],
   "source": [
    "dictionary = {}\n",
    "animal_name = input(\" \")\n",
    "fruit_name = input(\" \")\n",
    "dictionary.update({animal_name :fruit_name})\n",
    "\n",
    "print(dictionary)\n",
    "\n"
   ]
  },
  {
   "cell_type": "code",
   "execution_count": 77,
   "metadata": {},
   "outputs": [
    {
     "name": "stdout",
     "output_type": "stream",
     "text": [
      "Sum of all numeric values in  a dictionary is 118\n"
     ]
    }
   ],
   "source": [
    "Dictionary = {\n",
    "    \"number_1\" :10,\n",
    "    \"number_2\" : 24 ,\n",
    "     str : \"name\",\n",
    "    \"number_3\" : 36 ,\n",
    "    str : \"animal_name\" ,\n",
    "    \"number_4\" : 48 ,\n",
    "}\n",
    "\n",
    "sum = 0 \n",
    "for i in Dictionary.values():\n",
    "    if type(i) == int:\n",
    "        sum +=i\n",
    "\n",
    "print(\"Sum of all numeric values in  a dictionary is\" , sum)\n",
    "\n"
   ]
  },
  {
   "cell_type": "code",
   "execution_count": 53,
   "metadata": {},
   "outputs": [
    {
     "name": "stdout",
     "output_type": "stream",
     "text": [
      "Repeted item in list are [2, 3, 4, 5]\n"
     ]
    }
   ],
   "source": [
    "lst = [2,3,4,5,6,5,4,3,2,7]\n",
    "list_range = len(lst)\n",
    "repeated = []\n",
    "for i in range (list_range):\n",
    "    a = i + 2\n",
    "    for b in range(a, list_range):\n",
    "        if lst[i] == lst[b] and lst[i] not in repeated:\n",
    "            repeated.append(lst[i])\n",
    "print(\"Repeted item in list are\" , repeated)\n"
   ]
  },
  {
   "cell_type": "code",
   "execution_count": 71,
   "metadata": {},
   "outputs": [
    {
     "name": "stdout",
     "output_type": "stream",
     "text": [
      "Enter Key Name Check if exist or notstr\n",
      "Given Key dose not exist\n"
     ]
    }
   ],
   "source": [
    "Dictionary = {\n",
    "    \"animal_name\" : \"Lion\", \n",
    "    \"plant_name\": \"Dandalion \",\n",
    "     str : \"name\",\n",
    "    \"number_3\" : 36 ,\n",
    "    str : \"animal_name\" ,\n",
    "    \"number_4\" : 48 ,\n",
    "}\n",
    "check_key = input(\"Enter Key Name Check if exist or not\")\n",
    "flag = False\n",
    "for i in Dictionary.keys():\n",
    "    if i == check_key:\n",
    "        flag = True\n",
    "        break\n",
    "\n",
    "if flag:\n",
    "    print(\"Given Key exist\")\n",
    "else:\n",
    "    print(\"Given Key dose not exist\")\n"
   ]
  },
  {
   "cell_type": "code",
   "execution_count": null,
   "metadata": {},
   "outputs": [],
   "source": []
  }
 ],
 "metadata": {
  "kernelspec": {
   "display_name": "Python 3",
   "language": "python",
   "name": "python3"
  },
  "language_info": {
   "codemirror_mode": {
    "name": "ipython",
    "version": 3
   },
   "file_extension": ".py",
   "mimetype": "text/x-python",
   "name": "python",
   "nbconvert_exporter": "python",
   "pygments_lexer": "ipython3",
   "version": "3.7.4"
  }
 },
 "nbformat": 4,
 "nbformat_minor": 2
}
